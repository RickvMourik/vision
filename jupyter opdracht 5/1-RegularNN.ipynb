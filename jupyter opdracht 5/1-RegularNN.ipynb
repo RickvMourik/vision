{
 "cells": [
  {
   "cell_type": "code",
   "execution_count": 1,
   "metadata": {},
   "outputs": [],
   "source": [
    "from scripts.load_data import load_train, load_test, load_example\n",
    "\n",
    "\n",
    "import matplotlib.pyplot as plt\n",
    "from tensorflow.keras.models import Sequential\n",
    "from tensorflow.keras.layers import Dense, Activation\n",
    "from tensorflow.keras.utils import to_categorical\n",
    "import numpy as np"
   ]
  },
  {
   "cell_type": "markdown",
   "metadata": {},
   "source": [
    "## Image recognition met een \"normaal\" neuraal netwerk. \n",
    "\n",
    "Neurale netwerken zijn ontzettend sterke wiskundige modellen. Een “normaal” neuraal netwerk heeft echter wel wat limieten. Om een aantal van deze limieten te doorbreken, kan je een convolutional neuraal netwerk gebruiken. \n",
    "\n",
    "We beginnen met het exploreren van de limieten van normale neurale netwerken, dit doen we doormiddel van de MNIST-dataset.\n",
    "\n",
    "MNIST is een dataset van 70.000 handgeschreven cijfers (0..9), opgesplitst in 60.000 training images en 10.000 testing images. We hebben al functies geschreven waarmee je de data kan inladen, zie de cell hieronder.\n",
    "\n",
    "Deze data is steeds opgedeeld in 2 stukken: train en labels.\n",
    "\n",
    "train is een (numpy) array met alle inputafbeeldingen erin.\n",
    "labels is een (numpy) array met voor elke inputafbeelding de werkelijke waarde.\n",
    "\n",
    "Als train[5] een afbeelding van een 4 is, dan geldt dus: labels[5] == 4"
   ]
  },
  {
   "cell_type": "code",
   "execution_count": 2,
   "metadata": {},
   "outputs": [
    {
     "name": "stdout",
     "output_type": "stream",
     "text": [
      "Label: 4\n"
     ]
    },
    {
     "data": {
      "image/png": "[encoded data removed]",
      "text/plain": [
       "<Figure size 432x288 with 1 Axes>"
      ]
     },
     "metadata": {
      "needs_background": "light"
     },
     "output_type": "display_data"
    }
   ],
   "source": [
    "# Laad de trainingsdata en labels\n",
    "train_data, train_labels = load_train()\n",
    "# De kleurwaarden in de afbeelding zijn nu 0 tot 255, we zetten deze om naar -0.5 tot 0.5\n",
    "train_data = (train_data / 255) - 0.5\n",
    "\n",
    "\n",
    "plt.imshow(train_data[2])\n",
    "plt.title(f\"{train_labels[2]}\")\n",
    "print(f\"Label: {train_labels[2]}\")\n",
    "plt.show()"
   ]
  },
  {
   "cell_type": "markdown",
   "metadata": {},
   "source": [
    "\n",
    "### Data formatting\n",
    "Voordat we een neuraal netwerk kunnen trainen op de MNIST-data, moet deze verwerkt worden.\n",
    "\n",
    "De input data zijn op het moment grijsafbeeldingen, en dus 2-dimensionaal (x,y).\n",
    "Alleen elke input van dit neuraal netwerk moet 1-dimensionaal zijn. Probeer nu zelf train_data om te zetten naar een\n",
    "correct format. De labels hebben wij zelf al voor je omgezet naar het juiste formaat.\n"
   ]
  },
  {
   "cell_type": "code",
   "execution_count": 3,
   "metadata": {},
   "outputs": [],
   "source": [
    "train_labels = to_categorical(train_labels, 10)\n",
    "\n",
    "\n",
    "train_data = train_data.reshape([60000,868])\n",
    "\n",
    "\n"
   ]
  },
  {
   "cell_type": "code",
   "execution_count": 4,
   "metadata": {},
   "outputs": [
    {
     "name": "stdout",
     "output_type": "stream",
     "text": [
      "(60000, 868)\n"
     ]
    }
   ],
   "source": [
    "print(train_data.shape)"
   ]
  },
  {
   "cell_type": "markdown",
   "metadata": {},
   "source": [
    "Handig om te weten: Image recognition geeft in het algemeen ontzettend grote input vectors.\n",
    "MNIST is in grayscale, maar veel plaatjes zijn dat niet. Als je ook nog kleur wil meegeven,\n",
    "zou de input vector nog drie keer zo groot zijn.\n",
    "\n",
    "### Bouwen van een NN\n",
    "\n",
    "De volgende stap is om een neuraal netwerk te bouwen.\n",
    "Maak zelf de eerste Dense layer af, kijk vervolgens ook naar hoeveel hidden layers je toevoegt.\n",
    "Bij image recognition is de activation function ook erg belangrijk.\n",
    "Denk goed na over welke je gebruikt. De laatste layer geven wij alvast aan je.\n"
   ]
  },
  {
   "cell_type": "code",
   "execution_count": 5,
   "metadata": {},
   "outputs": [
    {
     "name": "stdout",
     "output_type": "stream",
     "text": [
      "Model: \"sequential\"\n",
      "_________________________________________________________________\n",
      "Layer (type)                 Output Shape              Param #   \n",
      "=================================================================\n",
      "dense (Dense)                (None, 32)                27808     \n",
      "_________________________________________________________________\n",
      "dense_1 (Dense)              (None, 10)                330       \n",
      "=================================================================\n",
      "Total params: 28,138\n",
      "Trainable params: 28,138\n",
      "Non-trainable params: 0\n",
      "_________________________________________________________________\n"
     ]
    }
   ],
   "source": [
    "model = Sequential()\n",
    "# input_dim moet gelijk zijn aan de lengte van 1 input\n",
    "model.add(Dense(32, input_dim=868)) # FIXME\n",
    "model.add(Dense(10, activation=\"softmax\"))\n",
    "\n",
    "model.summary()"
   ]
  },
  {
   "cell_type": "markdown",
   "metadata": {},
   "source": [
    "Hieruit kan je al direct het eerste probleem van normale neurale netwerken inzien; er is een gigantische hoeveelheid trainbare parameters. \n",
    "\n",
    "Iedere node moet verbonden zijn aan iedere node. Bij image recognition is de input vector gigantisch, dit houdt dus ook in dat er een gigantische hoeveelheid weights zijn waarmee jouw neuraal netwerk rekening moet houden. \n",
    "\n",
    "Dit maakt het trainen best zwaar en langzaam.\n",
    "\n",
    "Het klaarmaken van een neural network in Keras heeft de volgende stappen:\n",
    "- Aangeven van de layers, dit hebben we net gedaan\n",
    "- Compilen, het model word nu geconfigureerd om hem klaar te maken voor trainen\n",
    "- Fit, het model word nu \"getraind\" op data die je meegeeft. Hieraan geef je zowel data als labels mee\n",
    "- Evaluate; Controller het model om te kijken of het accuraat is. Geef hieraan data en labels mee, maar zorg dat deze data niet ook in je trainingsdata zit\n",
    "- Predict; Geef inputdata mee, waarvan je het label nog niet kent. het NN probeert het label nu te bedenken.\n",
    "Ga nu door met het trainen van dit neuraal netwerk. Ook de `.compile()` hebben wij al aan je geven, ook hier mag je mee spelen.\n",
    "\n",
    "Probeer jouw neuraal netwerk zo accuraat mogelijk te maken. (doe dit door te kijken naar de resultaten van de `.fit()`; `.evaluate()` komt later)."
   ]
  },
  {
   "cell_type": "code",
   "execution_count": 6,
   "metadata": {},
   "outputs": [],
   "source": [
    "model.compile(optimizer='rmsprop',\n",
    "              loss='categorical_crossentropy',\n",
    "              metrics=['accuracy'])\n"
   ]
  },
  {
   "cell_type": "markdown",
   "metadata": {},
   "source": [
    "In AI is het aantal epochs het aantal keer dat je over de volledige dataset heen gaat om te trainen.\n",
    "\n",
    "Experimenteer met deze waarde om te kijken wat voor invloed deze heeft."
   ]
  },
  {
   "cell_type": "code",
   "execution_count": 7,
   "metadata": {
    "scrolled": true
   },
   "outputs": [
    {
     "name": "stdout",
     "output_type": "stream",
     "text": [
      "Epoch 1/150\n",
      "1875/1875 [==============================] - 1s 536us/step - loss: 0.4361 - accuracy: 0.8697\n",
      "Epoch 2/150\n",
      "1875/1875 [==============================] - 1s 543us/step - loss: 0.3395 - accuracy: 0.9021\n",
      "Epoch 3/150\n",
      "1875/1875 [==============================] - 1s 538us/step - loss: 0.3236 - accuracy: 0.9081\n",
      "Epoch 4/150\n",
      "1875/1875 [==============================] - 1s 535us/step - loss: 0.3146 - accuracy: 0.9102\n",
      "Epoch 5/150\n",
      "1875/1875 [==============================] - 1s 547us/step - loss: 0.3093 - accuracy: 0.9118\n",
      "Epoch 6/150\n",
      "1875/1875 [==============================] - 1s 542us/step - loss: 0.3040 - accuracy: 0.9135\n",
      "Epoch 7/150\n",
      "1875/1875 [==============================] - 1s 520us/step - loss: 0.3010 - accuracy: 0.9136\n",
      "Epoch 8/150\n",
      "1875/1875 [==============================] - 1s 524us/step - loss: 0.2970 - accuracy: 0.9163\n",
      "Epoch 9/150\n",
      "1875/1875 [==============================] - 1s 529us/step - loss: 0.2951 - accuracy: 0.9166\n",
      "Epoch 10/150\n",
      "1875/1875 [==============================] - 1s 529us/step - loss: 0.2919 - accuracy: 0.9177\n",
      "Epoch 11/150\n",
      "1875/1875 [==============================] - 1s 527us/step - loss: 0.2893 - accuracy: 0.9174\n",
      "Epoch 12/150\n",
      "1875/1875 [==============================] - 1s 537us/step - loss: 0.2886 - accuracy: 0.9183\n",
      "Epoch 13/150\n",
      "1875/1875 [==============================] - 1s 525us/step - loss: 0.2878 - accuracy: 0.9193\n",
      "Epoch 14/150\n",
      "1875/1875 [==============================] - 1s 525us/step - loss: 0.2858 - accuracy: 0.9200\n",
      "Epoch 15/150\n",
      "1875/1875 [==============================] - 1s 520us/step - loss: 0.2838 - accuracy: 0.9196\n",
      "Epoch 16/150\n",
      "1875/1875 [==============================] - 1s 526us/step - loss: 0.2829 - accuracy: 0.9199\n",
      "Epoch 17/150\n",
      "1875/1875 [==============================] - 1s 522us/step - loss: 0.2818 - accuracy: 0.9213\n",
      "Epoch 18/150\n",
      "1875/1875 [==============================] - 1s 518us/step - loss: 0.2812 - accuracy: 0.9210\n",
      "Epoch 19/150\n",
      "1875/1875 [==============================] - 1s 547us/step - loss: 0.2792 - accuracy: 0.9219\n",
      "Epoch 20/150\n",
      "1875/1875 [==============================] - 1s 522us/step - loss: 0.2790 - accuracy: 0.9214\n",
      "Epoch 21/150\n",
      "1875/1875 [==============================] - 1s 523us/step - loss: 0.2785 - accuracy: 0.9221\n",
      "Epoch 22/150\n",
      "1875/1875 [==============================] - 1s 522us/step - loss: 0.2776 - accuracy: 0.9220\n",
      "Epoch 23/150\n",
      "1875/1875 [==============================] - 1s 516us/step - loss: 0.2757 - accuracy: 0.9219\n",
      "Epoch 24/150\n",
      "1875/1875 [==============================] - 1s 524us/step - loss: 0.2764 - accuracy: 0.9226\n",
      "Epoch 25/150\n",
      "1875/1875 [==============================] - 1s 522us/step - loss: 0.2746 - accuracy: 0.9232\n",
      "Epoch 26/150\n",
      "1875/1875 [==============================] - 1s 524us/step - loss: 0.2737 - accuracy: 0.9229\n",
      "Epoch 27/150\n",
      "1875/1875 [==============================] - 1s 520us/step - loss: 0.2732 - accuracy: 0.9228\n",
      "Epoch 28/150\n",
      "1875/1875 [==============================] - 1s 521us/step - loss: 0.2740 - accuracy: 0.9230\n",
      "Epoch 29/150\n",
      "1875/1875 [==============================] - 1s 523us/step - loss: 0.2721 - accuracy: 0.9234\n",
      "Epoch 30/150\n",
      "1875/1875 [==============================] - 1s 521us/step - loss: 0.2720 - accuracy: 0.9234\n",
      "Epoch 31/150\n",
      "1875/1875 [==============================] - 1s 524us/step - loss: 0.2706 - accuracy: 0.9238\n",
      "Epoch 32/150\n",
      "1875/1875 [==============================] - 1s 585us/step - loss: 0.2707 - accuracy: 0.9239\n",
      "Epoch 33/150\n",
      "1875/1875 [==============================] - 1s 518us/step - loss: 0.2703 - accuracy: 0.9248\n",
      "Epoch 34/150\n",
      "1875/1875 [==============================] - 1s 521us/step - loss: 0.2694 - accuracy: 0.9244\n",
      "Epoch 35/150\n",
      "1875/1875 [==============================] - 1s 522us/step - loss: 0.2694 - accuracy: 0.9238\n",
      "Epoch 36/150\n",
      "1875/1875 [==============================] - 1s 520us/step - loss: 0.2694 - accuracy: 0.9249\n",
      "Epoch 37/150\n",
      "1875/1875 [==============================] - 1s 516us/step - loss: 0.2690 - accuracy: 0.9242\n",
      "Epoch 38/150\n",
      "1875/1875 [==============================] - 1s 520us/step - loss: 0.2686 - accuracy: 0.9255\n",
      "Epoch 39/150\n",
      "1875/1875 [==============================] - 1s 525us/step - loss: 0.2674 - accuracy: 0.9252\n",
      "Epoch 40/150\n",
      "1875/1875 [==============================] - 1s 519us/step - loss: 0.2673 - accuracy: 0.9263\n",
      "Epoch 41/150\n",
      "1875/1875 [==============================] - 1s 520us/step - loss: 0.2670 - accuracy: 0.9257\n",
      "Epoch 42/150\n",
      "1875/1875 [==============================] - 1s 520us/step - loss: 0.2666 - accuracy: 0.9258\n",
      "Epoch 43/150\n",
      "1875/1875 [==============================] - 1s 522us/step - loss: 0.2664 - accuracy: 0.9252\n",
      "Epoch 44/150\n",
      "1875/1875 [==============================] - 1s 522us/step - loss: 0.2664 - accuracy: 0.9251\n",
      "Epoch 45/150\n",
      "1875/1875 [==============================] - 1s 521us/step - loss: 0.2661 - accuracy: 0.9253\n",
      "Epoch 46/150\n",
      "1875/1875 [==============================] - 1s 518us/step - loss: 0.2643 - accuracy: 0.9260\n",
      "Epoch 47/150\n",
      "1875/1875 [==============================] - 1s 521us/step - loss: 0.2655 - accuracy: 0.9257\n",
      "Epoch 48/150\n",
      "1875/1875 [==============================] - 1s 523us/step - loss: 0.2651 - accuracy: 0.9253\n",
      "Epoch 49/150\n",
      "1875/1875 [==============================] - 1s 523us/step - loss: 0.2654 - accuracy: 0.9258\n",
      "Epoch 50/150\n",
      "1875/1875 [==============================] - 1s 519us/step - loss: 0.2653 - accuracy: 0.9255\n",
      "Epoch 51/150\n",
      "1875/1875 [==============================] - 1s 523us/step - loss: 0.2633 - accuracy: 0.9262\n",
      "Epoch 52/150\n",
      "1875/1875 [==============================] - 1s 520us/step - loss: 0.2638 - accuracy: 0.9261\n",
      "Epoch 53/150\n",
      "1875/1875 [==============================] - 1s 523us/step - loss: 0.2632 - accuracy: 0.9267\n",
      "Epoch 54/150\n",
      "1875/1875 [==============================] - 1s 538us/step - loss: 0.2631 - accuracy: 0.92710s - loss: 0.2632 - accuracy: \n",
      "Epoch 55/150\n",
      "1875/1875 [==============================] - 1s 522us/step - loss: 0.2633 - accuracy: 0.92630s - loss: 0.2572 - \n",
      "Epoch 56/150\n",
      "1875/1875 [==============================] - 1s 560us/step - loss: 0.2629 - accuracy: 0.9267\n",
      "Epoch 57/150\n",
      "1875/1875 [==============================] - 1s 576us/step - loss: 0.2624 - accuracy: 0.9266\n",
      "Epoch 58/150\n",
      "1875/1875 [==============================] - 1s 564us/step - loss: 0.2639 - accuracy: 0.9262\n",
      "Epoch 59/150\n",
      "1875/1875 [==============================] - 1s 585us/step - loss: 0.2624 - accuracy: 0.92710s - loss: 0.2630 - accuracy: 0.92\n",
      "Epoch 60/150\n",
      "1875/1875 [==============================] - 1s 587us/step - loss: 0.2620 - accuracy: 0.9271\n",
      "Epoch 61/150\n",
      "1875/1875 [==============================] - 1s 594us/step - loss: 0.2619 - accuracy: 0.9267\n",
      "Epoch 62/150\n",
      "1875/1875 [==============================] - 1s 540us/step - loss: 0.2620 - accuracy: 0.9267\n",
      "Epoch 63/150\n",
      "1875/1875 [==============================] - 1s 539us/step - loss: 0.2614 - accuracy: 0.9272\n",
      "Epoch 64/150\n",
      "1875/1875 [==============================] - 1s 528us/step - loss: 0.2613 - accuracy: 0.9274\n",
      "Epoch 65/150\n",
      "1875/1875 [==============================] - 1s 522us/step - loss: 0.2606 - accuracy: 0.9263\n",
      "Epoch 66/150\n",
      "1875/1875 [==============================] - 1s 533us/step - loss: 0.2619 - accuracy: 0.9277\n",
      "Epoch 67/150\n",
      "1875/1875 [==============================] - 1s 543us/step - loss: 0.2599 - accuracy: 0.9268\n",
      "Epoch 68/150\n",
      "1875/1875 [==============================] - 1s 544us/step - loss: 0.2604 - accuracy: 0.9276\n",
      "Epoch 69/150\n",
      "1875/1875 [==============================] - 1s 534us/step - loss: 0.2607 - accuracy: 0.9269\n",
      "Epoch 70/150\n",
      "1875/1875 [==============================] - 1s 524us/step - loss: 0.2604 - accuracy: 0.9261\n",
      "Epoch 71/150\n",
      "1875/1875 [==============================] - 1s 523us/step - loss: 0.2599 - accuracy: 0.9283\n",
      "Epoch 72/150\n",
      "1875/1875 [==============================] - 1s 524us/step - loss: 0.2609 - accuracy: 0.9273\n",
      "Epoch 73/150\n",
      "1875/1875 [==============================] - 1s 515us/step - loss: 0.2591 - accuracy: 0.92770s - loss: 0.2595 - accuracy: 0.92\n",
      "Epoch 74/150\n",
      "1875/1875 [==============================] - 1s 534us/step - loss: 0.2600 - accuracy: 0.9275\n",
      "Epoch 75/150\n",
      "1875/1875 [==============================] - 1s 541us/step - loss: 0.2590 - accuracy: 0.9277\n",
      "Epoch 76/150\n",
      "1875/1875 [==============================] - 1s 524us/step - loss: 0.2590 - accuracy: 0.9274\n",
      "Epoch 77/150\n"
     ]
    },
    {
     "name": "stdout",
     "output_type": "stream",
     "text": [
      "1875/1875 [==============================] - 1s 524us/step - loss: 0.2590 - accuracy: 0.9273\n",
      "Epoch 78/150\n",
      "1875/1875 [==============================] - 1s 531us/step - loss: 0.2587 - accuracy: 0.9285\n",
      "Epoch 79/150\n",
      "1875/1875 [==============================] - 1s 526us/step - loss: 0.2591 - accuracy: 0.9285\n",
      "Epoch 80/150\n",
      "1875/1875 [==============================] - 1s 525us/step - loss: 0.2593 - accuracy: 0.9271\n",
      "Epoch 81/150\n",
      "1875/1875 [==============================] - 1s 526us/step - loss: 0.2592 - accuracy: 0.9270\n",
      "Epoch 82/150\n",
      "1875/1875 [==============================] - 1s 530us/step - loss: 0.2591 - accuracy: 0.9269\n",
      "Epoch 83/150\n",
      "1875/1875 [==============================] - 1s 527us/step - loss: 0.2584 - accuracy: 0.9270\n",
      "Epoch 84/150\n",
      "1875/1875 [==============================] - 1s 530us/step - loss: 0.2587 - accuracy: 0.9280\n",
      "Epoch 85/150\n",
      "1875/1875 [==============================] - 1s 530us/step - loss: 0.2582 - accuracy: 0.9278\n",
      "Epoch 86/150\n",
      "1875/1875 [==============================] - 1s 528us/step - loss: 0.2585 - accuracy: 0.92780s - loss: 0.2561 - ac\n",
      "Epoch 87/150\n",
      "1875/1875 [==============================] - 1s 536us/step - loss: 0.2583 - accuracy: 0.9284\n",
      "Epoch 88/150\n",
      "1875/1875 [==============================] - 1s 538us/step - loss: 0.2579 - accuracy: 0.9285\n",
      "Epoch 89/150\n",
      "1875/1875 [==============================] - 1s 551us/step - loss: 0.2580 - accuracy: 0.9284\n",
      "Epoch 90/150\n",
      "1875/1875 [==============================] - 1s 530us/step - loss: 0.2575 - accuracy: 0.9278\n",
      "Epoch 91/150\n",
      "1875/1875 [==============================] - 1s 539us/step - loss: 0.2576 - accuracy: 0.92800s - loss: 0.2579 - accu\n",
      "Epoch 92/150\n",
      "1875/1875 [==============================] - 1s 546us/step - loss: 0.2575 - accuracy: 0.9276\n",
      "Epoch 93/150\n",
      "1875/1875 [==============================] - 1s 552us/step - loss: 0.2579 - accuracy: 0.9273\n",
      "Epoch 94/150\n",
      "1875/1875 [==============================] - 1s 530us/step - loss: 0.2575 - accuracy: 0.9270\n",
      "Epoch 95/150\n",
      "1875/1875 [==============================] - 1s 538us/step - loss: 0.2570 - accuracy: 0.9283\n",
      "Epoch 96/150\n",
      "1875/1875 [==============================] - 1s 544us/step - loss: 0.2575 - accuracy: 0.9273\n",
      "Epoch 97/150\n",
      "1875/1875 [==============================] - 1s 537us/step - loss: 0.2569 - accuracy: 0.9282\n",
      "Epoch 98/150\n",
      "1875/1875 [==============================] - 1s 546us/step - loss: 0.2571 - accuracy: 0.92810s - l\n",
      "Epoch 99/150\n",
      "1875/1875 [==============================] - 1s 541us/step - loss: 0.2560 - accuracy: 0.9285\n",
      "Epoch 100/150\n",
      "1875/1875 [==============================] - 1s 557us/step - loss: 0.2557 - accuracy: 0.9284\n",
      "Epoch 101/150\n",
      "1875/1875 [==============================] - 1s 557us/step - loss: 0.2575 - accuracy: 0.9276\n",
      "Epoch 102/150\n",
      "1875/1875 [==============================] - 1s 577us/step - loss: 0.2560 - accuracy: 0.9280\n",
      "Epoch 103/150\n",
      "1875/1875 [==============================] - 1s 551us/step - loss: 0.2561 - accuracy: 0.9285\n",
      "Epoch 104/150\n",
      "1875/1875 [==============================] - 1s 538us/step - loss: 0.2562 - accuracy: 0.9283\n",
      "Epoch 105/150\n",
      "1875/1875 [==============================] - 1s 550us/step - loss: 0.2575 - accuracy: 0.9266\n",
      "Epoch 106/150\n",
      "1875/1875 [==============================] - 1s 516us/step - loss: 0.2563 - accuracy: 0.9287\n",
      "Epoch 107/150\n",
      "1875/1875 [==============================] - 1s 518us/step - loss: 0.2556 - accuracy: 0.9294\n",
      "Epoch 108/150\n",
      "1875/1875 [==============================] - 1s 522us/step - loss: 0.2557 - accuracy: 0.9281\n",
      "Epoch 109/150\n",
      "1875/1875 [==============================] - 1s 534us/step - loss: 0.2553 - accuracy: 0.9285\n",
      "Epoch 110/150\n",
      "1875/1875 [==============================] - 1s 516us/step - loss: 0.2556 - accuracy: 0.9290\n",
      "Epoch 111/150\n",
      "1875/1875 [==============================] - 1s 518us/step - loss: 0.2556 - accuracy: 0.9281\n",
      "Epoch 112/150\n",
      "1875/1875 [==============================] - 1s 518us/step - loss: 0.2556 - accuracy: 0.9284\n",
      "Epoch 113/150\n",
      "1875/1875 [==============================] - 1s 518us/step - loss: 0.2553 - accuracy: 0.92830s - los\n",
      "Epoch 114/150\n",
      "1875/1875 [==============================] - 1s 519us/step - loss: 0.2562 - accuracy: 0.9286\n",
      "Epoch 115/150\n",
      "1875/1875 [==============================] - 1s 517us/step - loss: 0.2555 - accuracy: 0.9274\n",
      "Epoch 116/150\n",
      "1875/1875 [==============================] - 1s 515us/step - loss: 0.2547 - accuracy: 0.9286\n",
      "Epoch 117/150\n",
      "1875/1875 [==============================] - 1s 520us/step - loss: 0.2544 - accuracy: 0.9285\n",
      "Epoch 118/150\n",
      "1875/1875 [==============================] - 1s 520us/step - loss: 0.2555 - accuracy: 0.9293\n",
      "Epoch 119/150\n",
      "1875/1875 [==============================] - 1s 517us/step - loss: 0.2547 - accuracy: 0.9290\n",
      "Epoch 120/150\n",
      "1875/1875 [==============================] - 1s 520us/step - loss: 0.2545 - accuracy: 0.9288\n",
      "Epoch 121/150\n",
      "1875/1875 [==============================] - 1s 516us/step - loss: 0.2551 - accuracy: 0.9287\n",
      "Epoch 122/150\n",
      "1875/1875 [==============================] - 1s 515us/step - loss: 0.2543 - accuracy: 0.9282\n",
      "Epoch 123/150\n",
      "1875/1875 [==============================] - 1s 519us/step - loss: 0.2554 - accuracy: 0.9283\n",
      "Epoch 124/150\n",
      "1875/1875 [==============================] - 1s 514us/step - loss: 0.2535 - accuracy: 0.9291\n",
      "Epoch 125/150\n",
      "1875/1875 [==============================] - 1s 515us/step - loss: 0.2543 - accuracy: 0.9281\n",
      "Epoch 126/150\n",
      "1875/1875 [==============================] - 1s 515us/step - loss: 0.2538 - accuracy: 0.9283\n",
      "Epoch 127/150\n",
      "1875/1875 [==============================] - 1s 516us/step - loss: 0.2537 - accuracy: 0.9290\n",
      "Epoch 128/150\n",
      "1875/1875 [==============================] - 1s 525us/step - loss: 0.2543 - accuracy: 0.9287\n",
      "Epoch 129/150\n",
      "1875/1875 [==============================] - 1s 514us/step - loss: 0.2541 - accuracy: 0.9282\n",
      "Epoch 130/150\n",
      "1875/1875 [==============================] - 1s 514us/step - loss: 0.2541 - accuracy: 0.9298\n",
      "Epoch 131/150\n",
      "1875/1875 [==============================] - 1s 523us/step - loss: 0.2536 - accuracy: 0.9288\n",
      "Epoch 132/150\n",
      "1875/1875 [==============================] - 1s 592us/step - loss: 0.2536 - accuracy: 0.9286\n",
      "Epoch 133/150\n",
      "1875/1875 [==============================] - 1s 543us/step - loss: 0.2536 - accuracy: 0.9296\n",
      "Epoch 134/150\n",
      "1875/1875 [==============================] - 1s 531us/step - loss: 0.2543 - accuracy: 0.9290\n",
      "Epoch 135/150\n",
      "1875/1875 [==============================] - 1s 525us/step - loss: 0.2534 - accuracy: 0.9294\n",
      "Epoch 136/150\n",
      "1875/1875 [==============================] - 1s 527us/step - loss: 0.2532 - accuracy: 0.9298\n",
      "Epoch 137/150\n",
      "1875/1875 [==============================] - 1s 528us/step - loss: 0.2533 - accuracy: 0.9285\n",
      "Epoch 138/150\n",
      "1875/1875 [==============================] - 1s 532us/step - loss: 0.2522 - accuracy: 0.9287\n",
      "Epoch 139/150\n",
      "1875/1875 [==============================] - 1s 533us/step - loss: 0.2531 - accuracy: 0.9289\n",
      "Epoch 140/150\n",
      "1875/1875 [==============================] - 1s 532us/step - loss: 0.2533 - accuracy: 0.9292\n",
      "Epoch 141/150\n",
      "1875/1875 [==============================] - 1s 540us/step - loss: 0.2531 - accuracy: 0.9285\n",
      "Epoch 142/150\n",
      "1875/1875 [==============================] - 1s 547us/step - loss: 0.2531 - accuracy: 0.9285\n",
      "Epoch 143/150\n",
      "1875/1875 [==============================] - 1s 541us/step - loss: 0.2521 - accuracy: 0.9294\n",
      "Epoch 144/150\n",
      "1875/1875 [==============================] - 1s 525us/step - loss: 0.2532 - accuracy: 0.9298\n",
      "Epoch 145/150\n",
      "1875/1875 [==============================] - 1s 530us/step - loss: 0.2524 - accuracy: 0.9297\n",
      "Epoch 146/150\n",
      "1875/1875 [==============================] - 1s 527us/step - loss: 0.2535 - accuracy: 0.9294\n",
      "Epoch 147/150\n",
      "1875/1875 [==============================] - 1s 539us/step - loss: 0.2522 - accuracy: 0.9294\n",
      "Epoch 148/150\n",
      "1875/1875 [==============================] - 1s 529us/step - loss: 0.2526 - accuracy: 0.9298\n",
      "Epoch 149/150\n",
      "1875/1875 [==============================] - 1s 523us/step - loss: 0.2511 - accuracy: 0.9297\n",
      "Epoch 150/150\n",
      "1875/1875 [==============================] - 1s 527us/step - loss: 0.2518 - accuracy: 0.92830s - loss: 0.2478 - accu\n"
     ]
    },
    {
     "data": {
      "text/plain": [
       "<tensorflow.python.keras.callbacks.History at 0x1e3954a5b20>"
      ]
     },
     "execution_count": 7,
     "metadata": {},
     "output_type": "execute_result"
    }
   ],
   "source": [
    "model.fit(train_data, train_labels, epochs=150) # FIXME set epochs"
   ]
  },
  {
   "cell_type": "markdown",
   "metadata": {},
   "source": [
    "### Het evalueren van het neurale netwerk\n",
    "Ook hier moet de data eerst nog omgevormd worden, gebruik hiervoor dezelfde code als bij de training data."
   ]
  },
  {
   "cell_type": "code",
   "execution_count": 13,
   "metadata": {},
   "outputs": [],
   "source": [
    "test_data, test_labels = load_test()\n",
    "\n",
    "test_data = test_data/255.0 - 0.5\n",
    "\n",
    "\n",
    "test_data = test_data.reshape([10000,868])\n",
    "test_labels = to_categorical(test_labels, 10)"
   ]
  },
  {
   "cell_type": "code",
   "execution_count": 14,
   "metadata": {},
   "outputs": [
    {
     "name": "stdout",
     "output_type": "stream",
     "text": [
      "  1/313 [..............................] - ETA: 0s - loss: 3.9827 - accuracy: 0.4688WARNING:tensorflow:Callbacks method `on_test_batch_end` is slow compared to the batch time (batch time: 0.0000s vs `on_test_batch_end` time: 0.0010s). Check your callbacks.\n",
      "313/313 [==============================] - 0s 393us/step - loss: 4.4849 - accuracy: 0.4384\n",
      "loss: 4.484933376312256, accuracy: 0.438400000333786 van de 1.0\n"
     ]
    }
   ],
   "source": [
    "result = model.evaluate(test_data, test_labels)\n",
    "\n",
    "print(f\"loss: {result[0]}, accuracy: {result[1]} van de 1.0\")"
   ]
  },
  {
   "cell_type": "markdown",
   "metadata": {},
   "source": [
    "### Huh?\n",
    "Hoogstwaarschijnlijk scoort jouw neuraal netwerk nu ontzettend slecht. Om een limiet van neurale netwerken zichtbaar te maken, hebben we een klein beetje valsgespeeld. We hebben wat padding toegevoegd; een aantal pixels aan de linkerkant bij de testing data en een aantal pixels aan de rechterkant bij de training data. Zie de plots hieronder."
   ]
  },
  {
   "cell_type": "code",
   "execution_count": 15,
   "metadata": {},
   "outputs": [
    {
     "data": {
      "image/png": "[encoded data removed]",
      "text/plain": [
       "<Figure size 720x288 with 2 Axes>"
      ]
     },
     "metadata": {
      "needs_background": "light"
     },
     "output_type": "display_data"
    }
   ],
   "source": [
    "(example_r, example_l), label = load_example()\n",
    "fig, axs = plt.subplots(1, 2, figsize=(10, 4))\n",
    "\n",
    "axs[0].imshow(example_r)\n",
    "axs[0].set_title(\"Padding on right side (Like training)\")\n",
    "\n",
    "axs[1].imshow(example_l)\n",
    "axs[1].set_title(\"Padding on left side (Like testing)\")\n",
    "\n",
    "plt.show()"
   ]
  },
  {
   "cell_type": "markdown",
   "metadata": {},
   "source": [
    "De standaardwaarde voor de padding is 3(!!) pixels, dit heeft een gigantisch effect op de accuratesse.\n",
    "Formatteer nog één keer de data (`examples`), en kijk wat er uit de `.predict()` komt.\n",
    "\n",
    "Er bestaat een kans dat jouw model hier de goede voorspelt, probeer dan bij `load_example()` het argument `index` te veranderen naar een ander getal. Waarschijnlijk zal het dan wel fout voorspellen\n"
   ]
  },
  {
   "cell_type": "code",
   "execution_count": 16,
   "metadata": {},
   "outputs": [],
   "source": [
    "examples = np.array([example_r, example_l])\n",
    "\n",
    "examples = examples.reshape([2,868])"
   ]
  },
  {
   "cell_type": "code",
   "execution_count": 17,
   "metadata": {},
   "outputs": [
    {
     "data": {
      "text/plain": [
       "array([4, 4], dtype=int64)"
      ]
     },
     "execution_count": 17,
     "metadata": {},
     "output_type": "execute_result"
    }
   ],
   "source": [
    "model.predict_classes(examples)"
   ]
  },
  {
   "cell_type": "markdown",
   "metadata": {},
   "source": [
    "### Waarom?\n",
    "\n",
    "De voorspellingen van een gewoon neuraal netwerk zijn ruimtelijk bepaald, het herkent patronen op specifieke plekken. Het verplaatsen van deze patronen met maar een paar pixels kan al genoeg zijn om het onmogelijk te maken voor een gewoon neuraal netwerk om deze te herkennen. \n",
    "\n",
    "Een neuraal netwerk getraind op het herkennen van honden en fietsen, zou heel makkelijk het volgende gedrag kunnen laten zien:\n",
    "\n",
    "\n",
    "\n",
    "![Right!](src/top-left-dog.png)\n",
    "\n",
    "![Wrong!](src/top-left-bike.png)\n",
    "\n",
    "\n",
    "Speel is een beetje rond met de padding, kijk is hoeveel impact 4 pixels heeft, zelfs 1 pixel kan al een grote impact hebben!\n",
    "\n",
    "Wij raden aan om alleen de horizontale padding te veranderen, het format van het padding argument in `load_train`, `load_test`, en `load_example` is dan: `((0, 0), (0, 0), (left sided padding, right sided padding))`."
   ]
  },
  {
   "cell_type": "markdown",
   "metadata": {},
   "source": [
    "- Aldewereld, H. & van der Bijl, B. & Bunk, J. (2017, oktober). Applied Artificial Intelligence. Geraadpleegd op 13 maart 2020, van https://canvas.hu.nl/courses/7569/files/694738/download?wrap=1\n",
    "\n",
    "- Chollet, F. (2019, November 6). Getting started with the Keras Sequential model. Geraadpleegd op 13 maart 2020, van keras.io: https://keras.io/getting-started/sequential-model-guide/"
   ]
  }
 ],
 "metadata": {
  "kernelspec": {
   "display_name": "Python 3",
   "language": "python",
   "name": "python3"
  },
  "language_info": {
   "codemirror_mode": {
    "name": "ipython",
    "version": 3
   },
   "file_extension": ".py",
   "mimetype": "text/x-python",
   "name": "python",
   "nbconvert_exporter": "python",
   "pygments_lexer": "ipython3",
   "version": "3.8.6"
  }
 },
 "nbformat": 4,
 "nbformat_minor": 4
}
