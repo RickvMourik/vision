{
 "cells": [
  {
   "cell_type": "code",
   "execution_count": 1,
   "metadata": {
    "colab": {
     "base_uri": "https://localhost:8080/",
     "height": 299
    },
    "colab_type": "code",
    "id": "owuMk_guREX5",
    "outputId": "ba7cd846-f092-473b-e412-32461a6d779b"
   },
   "outputs": [],
   "source": [
    "import numpy as np\n",
    "import matplotlib.pyplot as plt\n",
    "import mnist\n",
    "from keras.models import Sequential\n",
    "from keras.layers import Conv2D, MaxPooling2D, Dense, Flatten\n",
    "from keras.utils import to_categorical\n",
    "from keras.datasets import cifar10\n",
    "import keras\n",
    "from scripts.load_data import load_train, load_test"
   ]
  },
  {
   "cell_type": "markdown",
   "metadata": {},
   "source": [
    "## CNN bouwen"
   ]
  },
  {
   "cell_type": "code",
   "execution_count": 2,
   "metadata": {
    "colab": {},
    "colab_type": "code",
    "id": "p_lLaBNewZk0"
   },
   "outputs": [],
   "source": [
    "# Het importeren en bewerken van de data \n",
    "train_images, train_labels = load_train()\n",
    "test_images, test_labels = load_test()\n",
    "\n",
    "# Normalizeren van de images\n",
    "train_images = (train_images / 255) - 0.5\n",
    "test_images = (test_images / 255) - 0.5\n",
    "\n",
    "# Reshapen van de images zodat ze de juiste dimensies hebben\n",
    "train_images = np.expand_dims(train_images, axis=3)\n",
    "test_images = np.expand_dims(test_images, axis=3)"
   ]
  },
  {
   "cell_type": "code",
   "execution_count": 3,
   "metadata": {
    "colab": {},
    "colab_type": "code",
    "id": "nFleZ8yEyFtk"
   },
   "outputs": [],
   "source": [
    "# Onze CNN\n",
    "# Stap 1: bepaal hoeveel filters je wilt, hoe groot je filter size moet zijn (let op je filter size mag niet te groot zijn vergeleken met je images), en wat je pool size is. \n",
    "num_filters = 10\n",
    "filter_size = 3\n",
    "pool_size = 2\n",
    "\n",
    "# Stap 2: maak het model.\n",
    "#    In de array die je aan sequential meegeeft, zet je alle layers die in het model moeten:\n",
    "#    Conv2D, parameters: num_filters, filter_size, input_shape=(x, y, z)\n",
    "#    MaxPooling2D, parameters: pool_size=pool_size\n",
    "#    Flatten,\n",
    "#    Dense, parameters: aantal outputs, activation='softmax'\n",
    "\n",
    "model = Sequential([Conv2D(num_filters, filter_size, input_shape=(28, 31, 1)),\n",
    "MaxPooling2D(pool_size= pool_size),\n",
    "Flatten(), Dense(10, activation='softmax')])"
   ]
  },
  {
   "cell_type": "code",
   "execution_count": 4,
   "metadata": {
    "colab": {},
    "colab_type": "code",
    "id": "he8Zs-Sd2TID"
   },
   "outputs": [
    {
     "name": "stdout",
     "output_type": "stream",
     "text": [
      "Epoch 1/3\n",
      "1875/1875 [==============================] - 5s 3ms/step - loss: 0.3240 - accuracy: 0.9072 - val_loss: 1.6977 - val_accuracy: 0.5373\n",
      "Epoch 2/3\n",
      "1875/1875 [==============================] - 5s 3ms/step - loss: 0.1477 - accuracy: 0.9587 - val_loss: 1.3506 - val_accuracy: 0.6344\n",
      "Epoch 3/3\n",
      "1875/1875 [==============================] - 5s 2ms/step - loss: 0.1106 - accuracy: 0.9680 - val_loss: 1.2266 - val_accuracy: 0.6787\n"
     ]
    },
    {
     "data": {
      "text/plain": [
       "<tensorflow.python.keras.callbacks.History at 0x263f4e693a0>"
      ]
     },
     "execution_count": 4,
     "metadata": {},
     "output_type": "execute_result"
    }
   ],
   "source": [
    "# Stap 3: het compilen van het model. \n",
    "# model.compile parameters: 'adam', loss='categorial_crossentropy', metrics=['accuracy']\n",
    "model.compile('adam', loss= keras.losses.CategoricalCrossentropy(), metrics=['accuracy'])\n",
    "\n",
    "\n",
    "# Stap 4: fit het model. \n",
    "#    Data om op te trainen: train_images, to_categorial(train_labels)\n",
    "#    epochs = 3\n",
    "#    validation_data = test_images, to_categorial(test_labels)\n",
    "model.fit(train_images, to_categorical(train_labels), epochs = 3, validation_data = (test_images, to_categorical(test_labels)))"
   ]
  },
  {
   "cell_type": "code",
   "execution_count": 5,
   "metadata": {},
   "outputs": [
    {
     "name": "stdout",
     "output_type": "stream",
     "text": [
      "313/313 - 0s - loss: 1.2266 - accuracy: 0.6787\n",
      "0.6786999702453613\n"
     ]
    }
   ],
   "source": [
    "# Stap 5: evalueer het model\n",
    "test_loss, test_acc = model.evaluate(test_images,  to_categorical(test_labels), verbose=2)\n",
    "print(test_acc)"
   ]
  },
  {
   "cell_type": "code",
   "execution_count": 6,
   "metadata": {
    "colab": {},
    "colab_type": "code",
    "id": "pS8vERMeHh8j"
   },
   "outputs": [
    {
     "name": "stdout",
     "output_type": "stream",
     "text": [
      "Epoch 1/3\n",
      "1875/1875 [==============================] - 8s 4ms/step - loss: 0.2980 - accuracy: 0.9131 - val_loss: 1.3336 - val_accuracy: 0.6404\n",
      "Epoch 2/3\n",
      "1875/1875 [==============================] - 8s 4ms/step - loss: 0.1139 - accuracy: 0.9662 - val_loss: 0.7537 - val_accuracy: 0.7800\n",
      "Epoch 3/3\n",
      "1875/1875 [==============================] - 8s 4ms/step - loss: 0.0853 - accuracy: 0.9745 - val_loss: 0.7182 - val_accuracy: 0.7988\n",
      "313/313 - 1s - loss: 0.7182 - accuracy: 0.7988\n",
      "0.798799991607666\n",
      "Epoch 1/3\n",
      "1875/1875 [==============================] - 8s 4ms/step - loss: 0.0726 - accuracy: 0.9780 - val_loss: 0.5673 - val_accuracy: 0.8384\n",
      "Epoch 2/3\n",
      "1875/1875 [==============================] - 8s 4ms/step - loss: 0.0665 - accuracy: 0.9796 - val_loss: 0.5964 - val_accuracy: 0.8230\n",
      "Epoch 3/3\n",
      "1875/1875 [==============================] - 8s 4ms/step - loss: 0.0604 - accuracy: 0.9808 - val_loss: 0.5784 - val_accuracy: 0.8387\n",
      "313/313 - 1s - loss: 0.5784 - accuracy: 0.8387\n",
      "0.838699996471405\n"
     ]
    }
   ],
   "source": [
    "# Stap 6: extra layer(s). Wat gebeurt er als je een extra Conv Layer toevoegd aan je model? \n",
    "#    Voeg een extra layer(s) toe en train het model opnieuw.\n",
    "model2 = Sequential([Conv2D(num_filters, filter_size, input_shape=(28, 31, 1)),\n",
    "MaxPooling2D(pool_size= pool_size),\n",
    "Conv2D(num_filters, filter_size),\n",
    "Flatten(), Dense(10, activation='softmax')])\n",
    "\n",
    "model2.compile('adam', loss= keras.losses.CategoricalCrossentropy(), metrics=['accuracy'])\n",
    "model2.fit(train_images, to_categorical(train_labels), epochs = 3, validation_data = (test_images, to_categorical(test_labels)))\n",
    "test_loss, test_acc = model2.evaluate(test_images,  to_categorical(test_labels), verbose=2)\n",
    "print(test_acc)\n",
    "\n",
    "# Stap 7: parameters. Wat gebeurt er bijvoorbeeld als je geen softmax gebruikt maar een andere activatie? \n",
    "#    Pas op z'n minst 1 parameter aan en train je model opnieuw. \n",
    "model3 = Sequential([Conv2D(num_filters, filter_size, input_shape=(28, 31, 1)),\n",
    "MaxPooling2D(pool_size= pool_size),\n",
    "Conv2D(num_filters, filter_size),\n",
    "Flatten(), Dense(20, activation='relu')])\n",
    "\n",
    "model3.compile('adam', loss= keras.losses.CategoricalCrossentropy(), metrics=['accuracy'])\n",
    "model2.fit(train_images, to_categorical(train_labels), epochs = 3, validation_data = (test_images, to_categorical(test_labels)))\n",
    "test_loss, test_acc = model2.evaluate(test_images,  to_categorical(test_labels), verbose=2)\n",
    "print(test_acc)"
   ]
  },
  {
   "cell_type": "markdown",
   "metadata": {},
   "source": [
    "## CIFAR-10"
   ]
  },
  {
   "cell_type": "code",
   "execution_count": 7,
   "metadata": {},
   "outputs": [
    {
     "name": "stdout",
     "output_type": "stream",
     "text": [
      "28 31\n"
     ]
    },
    {
     "data": {
      "image/png": "[encoded data removed]",
      "text/plain": [
       "<Figure size 432x288 with 1 Axes>"
      ]
     },
     "metadata": {
      "needs_background": "light"
     },
     "output_type": "display_data"
    }
   ],
   "source": [
    "# Data inladen\n",
    "(train_images10, train_labels10), (test_images10, test_labels10) = cifar10.load_data()\n",
    "print(len(train_images[0]), len(train_images[0][0]))\n",
    "\n",
    "plt.imshow(train_images10[50])\n",
    "plt.show()\n",
    "\n",
    "# Normalizeren\n",
    "train_images10, test_images10 = train_images10 / 255.0, test_images10 / 255.0"
   ]
  },
  {
   "cell_type": "code",
   "execution_count": 18,
   "metadata": {},
   "outputs": [],
   "source": [
    "# Stap 8: bouw je eigen CNN voor de CIFAR-10 dataset. \n",
    "# Tip: gebruik meerdere Conv2D en MaxPooling layers\n",
    "# LET OP: gebruik 'softmax' alleen bij je laatste Dense layer. Gebruik 'relu' voor de andere Conv2D/Dense layers. \n",
    "model_cif = Sequential([Conv2D(32, (3, 3), activation='relu', input_shape=(32, 32, 3)),\n",
    "Conv2D(32, (2, 2), activation='relu'),\n",
    "MaxPooling2D((2, 2)),\n",
    "Conv2D(64, (2, 2), activation='relu'),\n",
    "Conv2D(64, (2, 2), activation='relu'),\n",
    "MaxPooling2D((2, 2)),\n",
    "Conv2D(128, (2, 2), activation='relu'),\n",
    "Conv2D(128, (2, 2), activation='relu'),\n",
    "MaxPooling2D((2, 2)),\n",
    "Flatten(),\n",
    "Dense(10, activation='softmax')])\n",
    "\n",
    "model_cif.compile(\n",
    "    'adam',\n",
    "    loss='categorical_crossentropy',\n",
    "    metrics=['accuracy'],\n",
    ")"
   ]
  },
  {
   "cell_type": "code",
   "execution_count": 20,
   "metadata": {},
   "outputs": [
    {
     "name": "stdout",
     "output_type": "stream",
     "text": [
      "Epoch 1/20\n",
      "1563/1563 [==============================] - 45s 29ms/step - loss: 1.4382 - accuracy: 0.4808 - val_loss: 1.2321 - val_accuracy: 0.5568\n",
      "Epoch 2/20\n",
      "1563/1563 [==============================] - 46s 29ms/step - loss: 1.1202 - accuracy: 0.6055 - val_loss: 1.0432 - val_accuracy: 0.6287\n",
      "Epoch 3/20\n",
      "1563/1563 [==============================] - 48s 31ms/step - loss: 0.9490 - accuracy: 0.6659 - val_loss: 0.9492 - val_accuracy: 0.6681\n",
      "Epoch 4/20\n",
      "1563/1563 [==============================] - 44s 28ms/step - loss: 0.8295 - accuracy: 0.7097 - val_loss: 0.9081 - val_accuracy: 0.6900\n",
      "Epoch 5/20\n",
      "1563/1563 [==============================] - 44s 28ms/step - loss: 0.7384 - accuracy: 0.7424 - val_loss: 0.8171 - val_accuracy: 0.7160\n",
      "Epoch 6/20\n",
      "1563/1563 [==============================] - 45s 29ms/step - loss: 0.6740 - accuracy: 0.7646 - val_loss: 0.7994 - val_accuracy: 0.7270\n",
      "Epoch 7/20\n",
      "1563/1563 [==============================] - 46s 29ms/step - loss: 0.6080 - accuracy: 0.7878 - val_loss: 0.8182 - val_accuracy: 0.7197\n",
      "Epoch 8/20\n",
      "1563/1563 [==============================] - 45s 29ms/step - loss: 0.5573 - accuracy: 0.8062 - val_loss: 0.7741 - val_accuracy: 0.7427\n",
      "Epoch 9/20\n",
      "1563/1563 [==============================] - 46s 29ms/step - loss: 0.5085 - accuracy: 0.8208 - val_loss: 0.9077 - val_accuracy: 0.7142\n",
      "Epoch 10/20\n",
      "1563/1563 [==============================] - 43s 28ms/step - loss: 0.4655 - accuracy: 0.8357 - val_loss: 0.8497 - val_accuracy: 0.7288\n",
      "Epoch 11/20\n",
      "1563/1563 [==============================] - 44s 28ms/step - loss: 0.4221 - accuracy: 0.8513 - val_loss: 0.8477 - val_accuracy: 0.7352\n",
      "Epoch 12/20\n",
      "1563/1563 [==============================] - 45s 29ms/step - loss: 0.3866 - accuracy: 0.8628 - val_loss: 0.9137 - val_accuracy: 0.7256\n",
      "Epoch 13/20\n",
      "1563/1563 [==============================] - 46s 29ms/step - loss: 0.3595 - accuracy: 0.8731 - val_loss: 0.9054 - val_accuracy: 0.7357\n",
      "Epoch 14/20\n",
      "1563/1563 [==============================] - 44s 28ms/step - loss: 0.3314 - accuracy: 0.8815 - val_loss: 1.0073 - val_accuracy: 0.7261\n",
      "Epoch 15/20\n",
      "1563/1563 [==============================] - 44s 28ms/step - loss: 0.3048 - accuracy: 0.8912 - val_loss: 1.0554 - val_accuracy: 0.7265\n",
      "Epoch 16/20\n",
      "1563/1563 [==============================] - 44s 28ms/step - loss: 0.2877 - accuracy: 0.8991 - val_loss: 1.0736 - val_accuracy: 0.7319\n",
      "Epoch 17/20\n",
      "1563/1563 [==============================] - 45s 28ms/step - loss: 0.2658 - accuracy: 0.9046 - val_loss: 1.1146 - val_accuracy: 0.7260\n",
      "Epoch 18/20\n",
      "1563/1563 [==============================] - 44s 28ms/step - loss: 0.2392 - accuracy: 0.9133 - val_loss: 1.2086 - val_accuracy: 0.7281\n",
      "Epoch 19/20\n",
      "1563/1563 [==============================] - 42s 27ms/step - loss: 0.2334 - accuracy: 0.9157 - val_loss: 1.2349 - val_accuracy: 0.7310\n",
      "Epoch 20/20\n",
      "1563/1563 [==============================] - 43s 27ms/step - loss: 0.2178 - accuracy: 0.9217 - val_loss: 1.2631 - val_accuracy: 0.7327\n"
     ]
    },
    {
     "data": {
      "text/plain": [
       "<tensorflow.python.keras.callbacks.History at 0x263fa1561c0>"
      ]
     },
     "execution_count": 20,
     "metadata": {},
     "output_type": "execute_result"
    }
   ],
   "source": [
    "model_cif.fit(\n",
    "  train_images10,\n",
    "  to_categorical(train_labels10),\n",
    "  epochs= 20,\n",
    "  validation_data=(test_images10, to_categorical(test_labels10)),\n",
    ")"
   ]
  },
  {
   "cell_type": "code",
   "execution_count": 21,
   "metadata": {},
   "outputs": [
    {
     "name": "stdout",
     "output_type": "stream",
     "text": [
      "313/313 - 3s - loss: 1.2631 - accuracy: 0.7327\n"
     ]
    }
   ],
   "source": [
    "test_loss, test_acc = model_cif.evaluate(test_images10,  to_categorical(test_labels10), verbose=2)"
   ]
  },
  {
   "cell_type": "code",
   "execution_count": 22,
   "metadata": {},
   "outputs": [
    {
     "name": "stdout",
     "output_type": "stream",
     "text": [
      "0.732699990272522\n"
     ]
    }
   ],
   "source": [
    "print(test_acc)"
   ]
  },
  {
   "cell_type": "markdown",
   "metadata": {},
   "source": [
    "## Bronnen\n",
    "* https://victorzhou.com/blog/keras-cnn-tutorial/ Bezocht: 9/3/2020\n",
    "* https://www.tensorflow.org/tutorials/images/cnn Bezocht: 13/3/2020"
   ]
  },
  {
   "cell_type": "code",
   "execution_count": null,
   "metadata": {},
   "outputs": [],
   "source": []
  }
 ],
 "metadata": {
  "colab": {
   "collapsed_sections": [],
   "name": "Workshop_CNN.ipynb",
   "provenance": []
  },
  "kernelspec": {
   "display_name": "Python 3",
   "language": "python",
   "name": "python3"
  },
  "language_info": {
   "codemirror_mode": {
    "name": "ipython",
    "version": 3
   },
   "file_extension": ".py",
   "mimetype": "text/x-python",
   "name": "python",
   "nbconvert_exporter": "python",
   "pygments_lexer": "ipython3",
   "version": "3.8.6"
  }
 },
 "nbformat": 4,
 "nbformat_minor": 1
}
